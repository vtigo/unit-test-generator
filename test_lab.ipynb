{
 "cells": [
  {
   "cell_type": "markdown",
   "metadata": {},
   "source": [
    "# Test Lab - Gerador de Testes Unitários\n",
    "\n",
    "Este notebook demonstra a geração automática de testes unitários para código Python, C# e Java usando LLMs.\n",
    "\n",
    "## Funcionalidades\n",
    "- Gerar testes unitários a partir de código fonte\n",
    "- Suporte para as linguagens Python, C# e Java\n",
    "- Processamento em lote com execução assíncrona\n",
    "- Execução automática de testes e geração de relatórios"
   ]
  },
  {
   "cell_type": "markdown",
   "metadata": {},
   "source": [
    "## Configuração"
   ]
  },
  {
   "cell_type": "code",
   "execution_count": 2,
   "metadata": {},
   "outputs": [
    {
     "name": "stdout",
     "output_type": "stream",
     "text": [
      "✓ Configuração completa\n"
     ]
    }
   ],
   "source": [
    "from pathlib import Path\n",
    "from adapters import CsAdapter, PythonAdapter, JavaAdapter\n",
    "from executors import PipelineExecutor\n",
    "from llm.engines import AnthropicEngine\n",
    "from llm.prompts import (\n",
    "    cs_unit_test_generator,\n",
    "    java_unit_test_generator,\n",
    "    python_unit_test_generator,\n",
    ")\n",
    "\n",
    "# Carregar variáveis de ambiente (para ANTHROPIC_API_KEY)\n",
    "from dotenv import load_dotenv\n",
    "load_dotenv()\n",
    "\n",
    "print(\"✓ Configuração completa\")"
   ]
  },
  {
   "cell_type": "markdown",
   "metadata": {},
   "source": [
    "## Exemplos Python\n",
    "\n",
    "### Função Python Individual"
   ]
  },
  {
   "cell_type": "code",
   "execution_count": 2,
   "metadata": {},
   "outputs": [
    {
     "name": "stdout",
     "output_type": "stream",
     "text": [
      "Arquivo de teste gerado em storage/project_20251007_124135/tests/test_main.py\n",
      "Arquivo de relatório gerado em storage/project_20251007_124135/test_report.xml\n"
     ]
    }
   ],
   "source": [
    "# Definir o código de entrada\n",
    "input_code = \"\"\"def add(a, b):\n",
    "    return a + b\n",
    "\n",
    "def div(a, b):\n",
    "    if b == 0:\n",
    "        raise ZeroDivisionError('division by zero')\n",
    "    return a / b\"\"\"\n",
    "\n",
    "# Inicializar LLM e adapter\n",
    "llm = AnthropicEngine(system=python_unit_test_generator, max_tokens=2048)\n",
    "adapter = PythonAdapter(llm_engine=llm)\n",
    "\n",
    "# Criar e executar pipeline\n",
    "pipeline = PipelineExecutor(language_adapter=adapter, work_dir=Path(\"storage\"))\n",
    "pipeline.execute(input_code)"
   ]
  },
  {
   "cell_type": "markdown",
   "metadata": {},
   "source": [
    "### Múltiplas Funções Python (Processamento em Lote)"
   ]
  },
  {
   "cell_type": "code",
   "execution_count": 3,
   "metadata": {},
   "outputs": [
    {
     "name": "stdout",
     "output_type": "stream",
     "text": [
      "Arquivo de teste gerado em storage/project_20251007_124208/tests/test_main.py\n",
      "Arquivo de teste gerado em storage/project_20251007_124208/tests/test_module_1.py\n",
      "Arquivo de teste gerado em storage/project_20251007_124208/tests/test_module_2.py\n",
      "Arquivo de relatório gerado em storage/project_20251007_124208/test_report.xml\n"
     ]
    }
   ],
   "source": [
    "# Definir múltiplos trechos de código\n",
    "input_code = [\n",
    "    \"\"\"def multiply(a, b):\n",
    "    return a * b\n",
    "\n",
    "def power(a, b):\n",
    "    return a ** b\"\"\",\n",
    "    \n",
    "    \"\"\"def subtract(a, b):\n",
    "    return a - b\n",
    "\n",
    "def modulo(a, b):\n",
    "    if b == 0:\n",
    "        raise ValueError('modulo by zero')\n",
    "    return a % b\"\"\",\n",
    "    \n",
    "    \"\"\"def is_even(n):\n",
    "    return n % 2 == 0\n",
    "\n",
    "def is_odd(n):\n",
    "    return n % 2 != 0\"\"\",\n",
    "]\n",
    "\n",
    "# Inicializar LLM e adapter para processamento em lote\n",
    "llm = AnthropicEngine(system=python_unit_test_generator, max_tokens=2048)\n",
    "adapter = PythonAdapter(llm_engine=llm)\n",
    "\n",
    "# Criar e executar pipeline (processa todos os trechos de forma assíncrona)\n",
    "pipeline = PipelineExecutor(language_adapter=adapter, work_dir=Path(\"storage\"))\n",
    "pipeline.execute(input_code)"
   ]
  },
  {
   "cell_type": "markdown",
   "metadata": {},
   "source": [
    "## Exemplos C#\n",
    "\n",
    "### Classe C# Individual"
   ]
  },
  {
   "cell_type": "code",
   "execution_count": 4,
   "metadata": {},
   "outputs": [
    {
     "name": "stdout",
     "output_type": "stream",
     "text": [
      "Arquivo de teste gerado em storage/cs_project_20251007_124239/tests/UnitTests.cs\n",
      "Arquivo de relatório gerado em storage/cs_project_20251007_124239/test_report.xml\n"
     ]
    }
   ],
   "source": [
    "# Definir o código C# de entrada\n",
    "input_code = \"\"\"public class Calculator\n",
    "{\n",
    "    public int Add(int a, int b)\n",
    "    {\n",
    "        return a + b;\n",
    "    }\n",
    "\n",
    "    public int Subtract(int a, int b)\n",
    "    {\n",
    "        return a - b;\n",
    "    }\n",
    "\n",
    "    public int Multiply(int a, int b)\n",
    "    {\n",
    "        return a * b;\n",
    "    }\n",
    "\n",
    "    public double Divide(double a, double b)\n",
    "    {\n",
    "        if (b == 0)\n",
    "        {\n",
    "            throw new ArgumentException(\"Cannot divide by zero.\");\n",
    "        }\n",
    "        return a / b;\n",
    "    }\n",
    "}\"\"\"\n",
    "\n",
    "# Inicializar LLM e adapter\n",
    "llm = AnthropicEngine(system=cs_unit_test_generator, max_tokens=2048)\n",
    "adapter = CsAdapter(llm_engine=llm)\n",
    "\n",
    "# Criar e executar pipeline\n",
    "pipeline = PipelineExecutor(language_adapter=adapter, work_dir=Path(\"storage\"))\n",
    "pipeline.execute(input_code)"
   ]
  },
  {
   "cell_type": "markdown",
   "metadata": {},
   "source": [
    "### Múltiplas Classes C# (Processamento em Lote)"
   ]
  },
  {
   "cell_type": "code",
   "execution_count": 6,
   "metadata": {},
   "outputs": [
    {
     "name": "stdout",
     "output_type": "stream",
     "text": [
      "Arquivo de teste gerado em storage/cs_project_20251007_124413/tests/UnitTests.cs\n",
      "Arquivo de teste gerado em storage/cs_project_20251007_124413/tests/Module_1Tests.cs\n",
      "Arquivo de teste gerado em storage/cs_project_20251007_124413/tests/Module_2Tests.cs\n",
      "Arquivo de relatório gerado em storage/cs_project_20251007_124413/test_report.xml\n"
     ]
    }
   ],
   "source": [
    "# Definir múltiplos trechos de código C#\n",
    "input_code = [\n",
    "    \"\"\"public class StringHelper\n",
    "{\n",
    "    public string ToUpper(string text)\n",
    "    {\n",
    "        return text.ToUpper();\n",
    "    }\n",
    "\n",
    "    public string Reverse(string text)\n",
    "    {\n",
    "        char[] array = text.ToCharArray();\n",
    "        Array.Reverse(array);\n",
    "        return new string(array);\n",
    "    }\n",
    "}\"\"\",\n",
    "    \n",
    "    \"\"\"public class MathHelper\n",
    "{\n",
    "    public int Max(int a, int b)\n",
    "    {\n",
    "        return a > b ? a : b;\n",
    "    }\n",
    "\n",
    "    public int Min(int a, int b)\n",
    "    {\n",
    "        return a < b ? a : b;\n",
    "    }\n",
    "}\"\"\",\n",
    "    \n",
    "    \"\"\"public class Validator\n",
    "{\n",
    "    public bool IsPositive(int n)\n",
    "    {\n",
    "        return n > 0;\n",
    "    }\n",
    "\n",
    "    public bool IsNegative(int n)\n",
    "    {\n",
    "        return n < 0;\n",
    "    }\n",
    "}\"\"\",\n",
    "]\n",
    "\n",
    "# Inicializar LLM e adapter para processamento em lote\n",
    "llm = AnthropicEngine(system=cs_unit_test_generator, max_tokens=2048)\n",
    "adapter = CsAdapter(llm_engine=llm)\n",
    "\n",
    "# Criar e executar pipeline (processa todos os trechos de forma assíncrona)\n",
    "pipeline = PipelineExecutor(language_adapter=adapter, work_dir=Path(\"storage\"))\n",
    "pipeline.execute(input_code)"
   ]
  },
  {
   "cell_type": "markdown",
   "metadata": {},
   "source": [
    "## Exemplos Java\n",
    "\n",
    "### Classe Java Individual"
   ]
  },
  {
   "cell_type": "code",
   "execution_count": 3,
   "metadata": {},
   "outputs": [
    {
     "name": "stdout",
     "output_type": "stream",
     "text": [
      "Arquivo de teste gerado em storage/java_project_20251007_124545/tests/CalculatorTest.java\n",
      "Arquivo de relatório gerado em storage/java_project_20251007_124545/test_report.xml\n"
     ]
    }
   ],
   "source": [
    "# Definir o código Java de entrada\n",
    "input_code = \"\"\"public class Calculator {\n",
    "    public int add(int a, int b) {\n",
    "        return a + b;\n",
    "    }\n",
    "\n",
    "    public int subtract(int a, int b) {\n",
    "        return a - b;\n",
    "    }\n",
    "\n",
    "    public int multiply(int a, int b) {\n",
    "        return a * b;\n",
    "    }\n",
    "\n",
    "    public double divide(double a, double b) {\n",
    "        if (b == 0) {\n",
    "            throw new IllegalArgumentException(\"Cannot divide by zero\");\n",
    "        }\n",
    "        return a / b;\n",
    "    }\n",
    "}\"\"\"\n",
    "\n",
    "# Inicializar LLM e adapter\n",
    "llm = AnthropicEngine(system=java_unit_test_generator, max_tokens=8192)\n",
    "adapter = JavaAdapter(llm_engine=llm)\n",
    "\n",
    "# Criar e executar pipeline\n",
    "pipeline = PipelineExecutor(language_adapter=adapter, work_dir=Path(\"storage\"))\n",
    "pipeline.execute(input_code)"
   ]
  },
  {
   "cell_type": "markdown",
   "metadata": {},
   "source": [
    "### Múltiplas Classes Java (Processamento em Lote)"
   ]
  },
  {
   "cell_type": "code",
   "execution_count": 7,
   "metadata": {},
   "outputs": [
    {
     "name": "stdout",
     "output_type": "stream",
     "text": [
      "Arquivo de teste gerado em storage/java_project_20251007_125329/tests/StringHelperTest.java\n",
      "Arquivo de teste gerado em storage/java_project_20251007_125329/tests/MathHelperTest.java\n",
      "Arquivo de teste gerado em storage/java_project_20251007_125329/tests/ValidatorTest.java\n",
      "Arquivo de relatório gerado em storage/java_project_20251007_125329/test_report.xml\n"
     ]
    }
   ],
   "source": [
    "# Definir múltiplos trechos de código Java\n",
    "input_code = [\n",
    "        \"\"\"public class StringHelper {\n",
    "    public String toUpper(String text) {\n",
    "        return text.toUpperCase();\n",
    "    }\n",
    "\n",
    "    public String reverse(String text) {\n",
    "        return new StringBuilder(text).reverse().toString();\n",
    "    }\n",
    "}\"\"\",\n",
    "        \"\"\"public class MathHelper {\n",
    "    public int max(int a, int b) {\n",
    "        return a > b ? a : b;\n",
    "    }\n",
    "\n",
    "    public int min(int a, int b) {\n",
    "        return a < b ? a : b;\n",
    "    }\n",
    "}\"\"\",\n",
    "        \"\"\"public class Validator {\n",
    "    public boolean isPositive(int n) {\n",
    "        return n > 0;\n",
    "    }\n",
    "\n",
    "    public boolean isNegative(int n) {\n",
    "        return n < 0;\n",
    "    }\n",
    "}\"\"\",\n",
    "    ]\n",
    "\n",
    "# Inicializar LLM e adapter\n",
    "llm = AnthropicEngine(system=java_unit_test_generator, max_tokens=8192)\n",
    "adapter = JavaAdapter(llm_engine=llm)\n",
    "\n",
    "# Criar e executar pipeline\n",
    "pipeline = PipelineExecutor(language_adapter=adapter, work_dir=Path(\"storage\"))\n",
    "pipeline.execute(input_code)"
   ]
  },
  {
   "cell_type": "markdown",
   "metadata": {},
   "source": [
    "## Exemplos Personalizados\n",
    "\n",
    "Use as células abaixo para experimentar com seu próprio código:"
   ]
  },
  {
   "cell_type": "code",
   "execution_count": null,
   "metadata": {},
   "outputs": [],
   "source": [
    "# Python: Adicione seu código personalizado aqui\n",
    "my_code = \"\"\"\n",
    "# Seu código Python aqui\n",
    "\"\"\"\n",
    "\n",
    "llm = AnthropicEngine(system=python_unit_test_generator, max_tokens=2048)\n",
    "adapter = PythonAdapter(llm_engine=llm)\n",
    "pipeline = PipelineExecutor(language_adapter=adapter, work_dir=Path(\"storage\"))\n",
    "pipeline.execute(my_code)"
   ]
  },
  {
   "cell_type": "code",
   "execution_count": null,
   "metadata": {},
   "outputs": [],
   "source": [
    "# C#: Adicione seu código personalizado aqui\n",
    "my_code = \"\"\"\n",
    "// Seu código C# aqui\n",
    "\"\"\"\n",
    "\n",
    "llm = AnthropicEngine(system=cs_unit_test_generator, max_tokens=2048)\n",
    "adapter = CsAdapter(llm_engine=llm)\n",
    "pipeline = PipelineExecutor(language_adapter=adapter, work_dir=Path(\"storage\"))\n",
    "pipeline.execute(my_code)"
   ]
  },
  {
   "cell_type": "code",
   "execution_count": null,
   "metadata": {},
   "outputs": [],
   "source": [
    "# Java: Adicione seu código personalizado aqui\n",
    "my_code = \"\"\"\n",
    "// Seu código Java aqui\n",
    "\"\"\"\n",
    "\n",
    "llm = AnthropicEngine(system=java_unit_test_generator, max_tokens=8192)\n",
    "adapter = JavaAdapter(llm_engine=llm)\n",
    "pipeline = PipelineExecutor(language_adapter=adapter, work_dir=Path(\"storage\"))\n",
    "pipeline.execute(my_code)"
   ]
  },
  {
   "cell_type": "markdown",
   "metadata": {},
   "source": [
    "## Resultados\n",
    "\n",
    "Após executar qualquer uma das células acima:\n",
    "- Projetos gerados são salvos no diretório `storage/`\n",
    "- Cada projeto contém:\n",
    "  - `app/` ou `src/` - Arquivos de código fonte\n",
    "  - `tests/` - Arquivos de teste gerados\n",
    "  - `test_report.xml` - Resultados da execução dos testes"
   ]
  }
 ],
 "metadata": {
  "kernelspec": {
   "display_name": "test-lab",
   "language": "python",
   "name": "python3"
  },
  "language_info": {
   "codemirror_mode": {
    "name": "ipython",
    "version": 3
   },
   "file_extension": ".py",
   "mimetype": "text/x-python",
   "name": "python",
   "nbconvert_exporter": "python",
   "pygments_lexer": "ipython3",
   "version": "3.10.17"
  }
 },
 "nbformat": 4,
 "nbformat_minor": 4
}

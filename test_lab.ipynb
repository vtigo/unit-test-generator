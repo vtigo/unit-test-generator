{
 "cells": [
  {
   "cell_type": "markdown",
   "metadata": {},
   "source": [
    "# Test Lab - Unit Test Generator\n",
    "\n",
    "This notebook demonstrates automatic unit test generation for Python and C# code using LLMs.\n",
    "\n",
    "## Features\n",
    "- Generate unit tests from source code\n",
    "- Support for Python and C# languages\n",
    "- Batch processing with async execution\n",
    "- Automatic test execution and reporting"
   ]
  },
  {
   "cell_type": "markdown",
   "metadata": {},
   "source": [
    "## Setup"
   ]
  },
  {
   "cell_type": "code",
   "execution_count": null,
   "metadata": {},
   "outputs": [
    {
     "name": "stdout",
     "output_type": "stream",
     "text": [
      "✓ Setup complete\n"
     ]
    }
   ],
   "source": [
    "from pathlib import Path\n",
    "from adapters import CsAdapter, PythonAdapter, JavaAdapter\n",
    "from executors import PipelineExecutor\n",
    "from llm.engines import AnthropicEngine\n",
    "from llm.prompts import (\n",
    "    cs_unit_test_generator,\n",
    "    java_unit_test_generator,\n",
    "    python_unit_test_generator,\n",
    ")\n",
    "\n",
    "# Load environment variables (for ANTHROPIC_API_KEY)\n",
    "from dotenv import load_dotenv\n",
    "load_dotenv()\n",
    "\n",
    "print(\"✓ Setup complete\")"
   ]
  },
  {
   "cell_type": "markdown",
   "metadata": {},
   "source": [
    "## Python Examples\n",
    "\n",
    "### Single Python Function"
   ]
  },
  {
   "cell_type": "code",
   "execution_count": null,
   "metadata": {},
   "outputs": [],
   "source": [
    "# Define the input code\n",
    "input_code = \"\"\"def add(a, b):\n",
    "    return a + b\n",
    "\n",
    "def div(a, b):\n",
    "    if b == 0:\n",
    "        raise ZeroDivisionError('division by zero')\n",
    "    return a / b\"\"\"\n",
    "\n",
    "# Initialize LLM and adapter\n",
    "llm = AnthropicEngine(system=python_unit_test_generator, max_tokens=2048)\n",
    "adapter = PythonAdapter(llm_engine=llm)\n",
    "\n",
    "# Create and run pipeline\n",
    "pipeline = PipelineExecutor(language_adapter=adapter, work_dir=Path(\"storage\"))\n",
    "pipeline.execute(input_code)"
   ]
  },
  {
   "cell_type": "markdown",
   "metadata": {},
   "source": [
    "### Multiple Python Functions (Batch Processing)"
   ]
  },
  {
   "cell_type": "code",
   "execution_count": 2,
   "metadata": {},
   "outputs": [
    {
     "name": "stdout",
     "output_type": "stream",
     "text": [
      "Arquivo de teste gerado em storage/project_20251002_125805/tests/test_main.py\n",
      "Arquivo de teste gerado em storage/project_20251002_125805/tests/test_module_1.py\n",
      "Arquivo de teste gerado em storage/project_20251002_125805/tests/test_module_2.py\n",
      "Arquivo de relatório gerado em storage/project_20251002_125805/test_report.xml\n"
     ]
    }
   ],
   "source": [
    "# Define multiple code snippets\n",
    "input_code = [\n",
    "    \"\"\"def multiply(a, b):\n",
    "    return a * b\n",
    "\n",
    "def power(a, b):\n",
    "    return a ** b\"\"\",\n",
    "    \n",
    "    \"\"\"def subtract(a, b):\n",
    "    return a - b\n",
    "\n",
    "def modulo(a, b):\n",
    "    if b == 0:\n",
    "        raise ValueError('modulo by zero')\n",
    "    return a % b\"\"\",\n",
    "    \n",
    "    \"\"\"def is_even(n):\n",
    "    return n % 2 == 0\n",
    "\n",
    "def is_odd(n):\n",
    "    return n % 2 != 0\"\"\",\n",
    "]\n",
    "\n",
    "# Initialize LLM and adapter for batch processing\n",
    "llm = AnthropicEngine(system=python_unit_test_generator, max_tokens=2048)\n",
    "adapter = PythonAdapter(llm_engine=llm)\n",
    "\n",
    "# Create and run pipeline (processes all snippets asynchronously)\n",
    "pipeline = PipelineExecutor(language_adapter=adapter, work_dir=Path(\"storage\"))\n",
    "pipeline.execute(input_code)"
   ]
  },
  {
   "cell_type": "markdown",
   "metadata": {},
   "source": [
    "## C# Examples\n",
    "\n",
    "### Single C# Class"
   ]
  },
  {
   "cell_type": "code",
   "execution_count": null,
   "metadata": {},
   "outputs": [],
   "source": [
    "# Define the C# input code\n",
    "input_code = \"\"\"public class Calculator\n",
    "{\n",
    "    public int Add(int a, int b)\n",
    "    {\n",
    "        return a + b;\n",
    "    }\n",
    "\n",
    "    public int Subtract(int a, int b)\n",
    "    {\n",
    "        return a - b;\n",
    "    }\n",
    "\n",
    "    public int Multiply(int a, int b)\n",
    "    {\n",
    "        return a * b;\n",
    "    }\n",
    "\n",
    "    public double Divide(double a, double b)\n",
    "    {\n",
    "        if (b == 0)\n",
    "        {\n",
    "            throw new ArgumentException(\"Cannot divide by zero.\");\n",
    "        }\n",
    "        return a / b;\n",
    "    }\n",
    "}\"\"\"\n",
    "\n",
    "# Initialize LLM and adapter\n",
    "llm = AnthropicEngine(system=cs_unit_test_generator, max_tokens=2048)\n",
    "adapter = CsAdapter(llm_engine=llm)\n",
    "\n",
    "# Create and run pipeline\n",
    "pipeline = PipelineExecutor(language_adapter=adapter, work_dir=Path(\"storage\"))\n",
    "pipeline.execute(input_code)"
   ]
  },
  {
   "cell_type": "markdown",
   "metadata": {},
   "source": [
    "### Multiple C# Classes (Batch Processing)"
   ]
  },
  {
   "cell_type": "code",
   "execution_count": null,
   "metadata": {},
   "outputs": [],
   "source": [
    "# Define multiple C# code snippets\n",
    "input_code = [\n",
    "    \"\"\"public class StringHelper\n",
    "{\n",
    "    public string ToUpper(string text)\n",
    "    {\n",
    "        return text.ToUpper();\n",
    "    }\n",
    "\n",
    "    public string Reverse(string text)\n",
    "    {\n",
    "        char[] array = text.ToCharArray();\n",
    "        Array.Reverse(array);\n",
    "        return new string(array);\n",
    "    }\n",
    "}\"\"\",\n",
    "    \n",
    "    \"\"\"public class MathHelper\n",
    "{\n",
    "    public int Max(int a, int b)\n",
    "    {\n",
    "        return a > b ? a : b;\n",
    "    }\n",
    "\n",
    "    public int Min(int a, int b)\n",
    "    {\n",
    "        return a < b ? a : b;\n",
    "    }\n",
    "}\"\"\",\n",
    "    \n",
    "    \"\"\"public class Validator\n",
    "{\n",
    "    public bool IsPositive(int n)\n",
    "    {\n",
    "        return n > 0;\n",
    "    }\n",
    "\n",
    "    public bool IsNegative(int n)\n",
    "    {\n",
    "        return n < 0;\n",
    "    }\n",
    "}\"\"\",\n",
    "]\n",
    "\n",
    "# Initialize LLM and adapter for batch processing\n",
    "llm = AnthropicEngine(system=cs_unit_test_generator, max_tokens=2048)\n",
    "adapter = CsAdapter(llm_engine=llm)\n",
    "\n",
    "# Create and run pipeline (processes all snippets asynchronously)\n",
    "pipeline = PipelineExecutor(language_adapter=adapter, work_dir=Path(\"storage\"))\n",
    "pipeline.execute(input_code)"
   ]
  },
  {
   "cell_type": "markdown",
   "metadata": {},
   "source": [
    "## Java Examples\n",
    "\n",
    "### Single Java Class"
   ]
  },
  {
   "cell_type": "code",
   "execution_count": null,
   "metadata": {},
   "outputs": [],
   "source": [
    "# Define the Java input code\n",
    "input_code = \"\"\"public class Calculator {\n",
    "    public int add(int a, int b) {\n",
    "        return a + b;\n",
    "    }\n",
    "\n",
    "    public int subtract(int a, int b) {\n",
    "        return a - b;\n",
    "    }\n",
    "\n",
    "    public int multiply(int a, int b) {\n",
    "        return a * b;\n",
    "    }\n",
    "\n",
    "    public double divide(double a, double b) {\n",
    "        if (b == 0) {\n",
    "            throw new IllegalArgumentException(\"Cannot divide by zero\");\n",
    "        }\n",
    "        return a / b;\n",
    "    }\n",
    "}\"\"\"\n",
    "\n",
    "# Initialize LLM and adapter\n",
    "llm = AnthropicEngine(system=java_unit_test_generator, max_tokens=8192)\n",
    "adapter = JavaAdapter(llm_engine=llm)\n",
    "\n",
    "# Create and run pipeline\n",
    "pipeline = PipelineExecutor(language_adapter=adapter, work_dir=Path(\"storage\"))\n",
    "pipeline.execute(input_code)"
   ]
  },
  {
   "cell_type": "markdown",
   "metadata": {},
   "source": [
    "### Multiple Java Classes (Batch Processing)"
   ]
  },
  {
   "cell_type": "code",
   "execution_count": null,
   "metadata": {},
   "outputs": [],
   "source": [
    "# Define the Java input code\n",
    "input_codes = [\n",
    "        \"\"\"public class StringHelper {\n",
    "    public String toUpper(String text) {\n",
    "        return text.toUpperCase();\n",
    "    }\n",
    "\n",
    "    public String reverse(String text) {\n",
    "        return new StringBuilder(text).reverse().toString();\n",
    "    }\n",
    "}\"\"\",\n",
    "        \"\"\"public class MathHelper {\n",
    "    public int max(int a, int b) {\n",
    "        return a > b ? a : b;\n",
    "    }\n",
    "\n",
    "    public int min(int a, int b) {\n",
    "        return a < b ? a : b;\n",
    "    }\n",
    "}\"\"\",\n",
    "        \"\"\"public class Validator {\n",
    "    public boolean isPositive(int n) {\n",
    "        return n > 0;\n",
    "    }\n",
    "\n",
    "    public boolean isNegative(int n) {\n",
    "        return n < 0;\n",
    "    }\n",
    "}\"\"\",\n",
    "    ]\n",
    "\n",
    "# Initialize LLM and adapter\n",
    "llm = AnthropicEngine(system=java_unit_test_generator, max_tokens=8192)\n",
    "adapter = JavaAdapter(llm_engine=llm)\n",
    "\n",
    "# Create and run pipeline\n",
    "pipeline = PipelineExecutor(language_adapter=adapter, work_dir=Path(\"storage\"))\n",
    "pipeline.execute(input_code)"
   ]
  },
  {
   "cell_type": "markdown",
   "metadata": {},
   "source": [
    "## Custom Examples\n",
    "\n",
    "Use the cells below to experiment with your own code:"
   ]
  },
  {
   "cell_type": "code",
   "execution_count": null,
   "metadata": {},
   "outputs": [],
   "source": [
    "# Python: Add your custom code here\n",
    "my_code = \"\"\"\n",
    "# Your Python code here\n",
    "\"\"\"\n",
    "\n",
    "llm = AnthropicEngine(system=python_unit_test_generator, max_tokens=2048)\n",
    "adapter = PythonAdapter(llm_engine=llm)\n",
    "pipeline = PipelineExecutor(language_adapter=adapter, work_dir=Path(\"storage\"))\n",
    "pipeline.execute(my_code)"
   ]
  },
  {
   "cell_type": "code",
   "execution_count": null,
   "metadata": {},
   "outputs": [],
   "source": [
    "# C#: Add your custom code here\n",
    "my_code = \"\"\"\n",
    "// Your C# code here\n",
    "\"\"\"\n",
    "\n",
    "llm = AnthropicEngine(system=cs_unit_test_generator, max_tokens=2048)\n",
    "adapter = CsAdapter(llm_engine=llm)\n",
    "pipeline = PipelineExecutor(language_adapter=adapter, work_dir=Path(\"storage\"))\n",
    "pipeline.execute(my_code)"
   ]
  },
  {
   "cell_type": "code",
   "execution_count": null,
   "metadata": {},
   "outputs": [],
   "source": [
    "# Java: Add your custom code here\n",
    "my_code = \"\"\"\n",
    "// Your Java code here\n",
    "\"\"\"\n",
    "\n",
    "llm = AnthropicEngine(system=java_unit_test_generator, max_tokens=8192)\n",
    "adapter = JavaAdapter(llm_engine=llm)\n",
    "pipeline = PipelineExecutor(language_adapter=adapter, work_dir=Path(\"storage\"))\n",
    "pipeline.execute(my_code)"
   ]
  },
  {
   "cell_type": "markdown",
   "metadata": {},
   "source": [
    "## Results\n",
    "\n",
    "After running any of the above cells:\n",
    "- Generated projects are saved in the `storage/` directory\n",
    "- Each project contains:\n",
    "  - `app/` or `src/` - Source code files\n",
    "  - `tests/` - Generated test files\n",
    "  - `test_report.xml` - Test execution results"
   ]
  }
 ],
 "metadata": {
  "kernelspec": {
   "display_name": "test-lab",
   "language": "python",
   "name": "python3"
  },
  "language_info": {
   "codemirror_mode": {
    "name": "ipython",
    "version": 3
   },
   "file_extension": ".py",
   "mimetype": "text/x-python",
   "name": "python",
   "nbconvert_exporter": "python",
   "pygments_lexer": "ipython3",
   "version": "3.10.17"
  }
 },
 "nbformat": 4,
 "nbformat_minor": 4
}
